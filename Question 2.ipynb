{
 "cells": [
  {
   "cell_type": "markdown",
   "id": "3e385688",
   "metadata": {},
   "source": [
    "# Assignment 1: Question 2"
   ]
  },
  {
   "cell_type": "markdown",
   "id": "b86a8e70",
   "metadata": {},
   "source": [
    "Consider the _Salaries.csv_ dataset containing San Francisco city employee salary data."
   ]
  },
  {
   "cell_type": "code",
   "execution_count": 25,
   "id": "78571c99",
   "metadata": {},
   "outputs": [],
   "source": [
    "import pandas as pd"
   ]
  },
  {
   "cell_type": "code",
   "execution_count": 26,
   "id": "b69317c8",
   "metadata": {},
   "outputs": [],
   "source": [
    "file_path = 'C:/STK/Assignment 1/Salaries.csv'\n",
    "df = pd.read_csv(file_path)"
   ]
  },
  {
   "cell_type": "markdown",
   "id": "11df3184",
   "metadata": {},
   "source": [
    "1. How many rows does the _Salaries.csv_ dataset have?"
   ]
  },
  {
   "cell_type": "code",
   "execution_count": 27,
   "id": "1f508801",
   "metadata": {},
   "outputs": [
    {
     "name": "stdout",
     "output_type": "stream",
     "text": [
      "Number of rows in salaries dataset: 148654\n"
     ]
    }
   ],
   "source": [
    "count_rows = len(df)\n",
    "print(f\"Number of rows in salaries dataset: {count_rows}\")"
   ]
  },
  {
   "cell_type": "markdown",
   "id": "ed0f58d3",
   "metadata": {},
   "source": [
    "2. Retrieve the column names."
   ]
  },
  {
   "cell_type": "code",
   "execution_count": 28,
   "id": "b5325279",
   "metadata": {
    "scrolled": true
   },
   "outputs": [
    {
     "name": "stdout",
     "output_type": "stream",
     "text": [
      "Column names:\n",
      "Id\n",
      "EmployeeName\n",
      "JobTitle\n",
      "BasePay\n",
      "OvertimePay\n",
      "OtherPay\n",
      "Benefits\n",
      "TotalPay\n",
      "TotalPayBenefits\n",
      "Year\n",
      "Notes\n",
      "Agency\n",
      "Status\n"
     ]
    }
   ],
   "source": [
    "column_names = df.columns\n",
    "print(\"Column names:\")\n",
    "for column in column_names:\n",
    "    print(column)"
   ]
  },
  {
   "cell_type": "markdown",
   "id": "662d830a",
   "metadata": {},
   "source": [
    "3. Use an appropriate method to retrieve the first 10 rows of the data."
   ]
  },
  {
   "cell_type": "code",
   "execution_count": 29,
   "id": "9066f919",
   "metadata": {},
   "outputs": [
    {
     "name": "stdout",
     "output_type": "stream",
     "text": [
      "First ten rows of the DataFrame:\n",
      "   Id        EmployeeName                                        JobTitle  \\\n",
      "0   1      NATHANIEL FORD  GENERAL MANAGER-METROPOLITAN TRANSIT AUTHORITY   \n",
      "1   2        GARY JIMENEZ                 CAPTAIN III (POLICE DEPARTMENT)   \n",
      "2   3      ALBERT PARDINI                 CAPTAIN III (POLICE DEPARTMENT)   \n",
      "3   4   CHRISTOPHER CHONG            WIRE ROPE CABLE MAINTENANCE MECHANIC   \n",
      "4   5     PATRICK GARDNER    DEPUTY CHIEF OF DEPARTMENT,(FIRE DEPARTMENT)   \n",
      "5   6      DAVID SULLIVAN                       ASSISTANT DEPUTY CHIEF II   \n",
      "6   7           ALSON LEE              BATTALION CHIEF, (FIRE DEPARTMENT)   \n",
      "7   8       DAVID KUSHNER                  DEPUTY DIRECTOR OF INVESTMENTS   \n",
      "8   9      MICHAEL MORRIS              BATTALION CHIEF, (FIRE DEPARTMENT)   \n",
      "9  10  JOANNE HAYES-WHITE          CHIEF OF DEPARTMENT, (FIRE DEPARTMENT)   \n",
      "\n",
      "     BasePay  OvertimePay   OtherPay  Benefits   TotalPay  TotalPayBenefits  \\\n",
      "0  167411.18         0.00  400184.25       NaN  567595.43         567595.43   \n",
      "1  155966.02    245131.88  137811.38       NaN  538909.28         538909.28   \n",
      "2  212739.13    106088.18   16452.60       NaN  335279.91         335279.91   \n",
      "3   77916.00     56120.71  198306.90       NaN  332343.61         332343.61   \n",
      "4  134401.60      9737.00  182234.59       NaN  326373.19         326373.19   \n",
      "5  118602.00      8601.00  189082.74       NaN  316285.74         316285.74   \n",
      "6   92492.01     89062.90  134426.14       NaN  315981.05         315981.05   \n",
      "7  256576.96         0.00   51322.50       NaN  307899.46         307899.46   \n",
      "8  176932.64     86362.68   40132.23       NaN  303427.55         303427.55   \n",
      "9  285262.00         0.00   17115.73       NaN  302377.73         302377.73   \n",
      "\n",
      "   Year  Notes         Agency  Status  \n",
      "0  2011    NaN  San Francisco     NaN  \n",
      "1  2011    NaN  San Francisco     NaN  \n",
      "2  2011    NaN  San Francisco     NaN  \n",
      "3  2011    NaN  San Francisco     NaN  \n",
      "4  2011    NaN  San Francisco     NaN  \n",
      "5  2011    NaN  San Francisco     NaN  \n",
      "6  2011    NaN  San Francisco     NaN  \n",
      "7  2011    NaN  San Francisco     NaN  \n",
      "8  2011    NaN  San Francisco     NaN  \n",
      "9  2011    NaN  San Francisco     NaN  \n"
     ]
    }
   ],
   "source": [
    "first_ten_rows = df.head(10)\n",
    "print(\"First ten rows of the DataFrame:\")\n",
    "print(first_ten_rows)"
   ]
  },
  {
   "cell_type": "markdown",
   "id": "6de68387",
   "metadata": {},
   "source": [
    "4. What is the average BasePay?"
   ]
  },
  {
   "cell_type": "code",
   "execution_count": 30,
   "id": "255bb558",
   "metadata": {},
   "outputs": [
    {
     "name": "stdout",
     "output_type": "stream",
     "text": [
      "Average 'BasePay': 66325.4488404877\n"
     ]
    }
   ],
   "source": [
    "mean_base_pay = df['BasePay'].mean()\n",
    "print(f\"Average 'BasePay': {mean_base_pay}\")"
   ]
  },
  {
   "cell_type": "markdown",
   "id": "b95cd74f",
   "metadata": {},
   "source": [
    "5. What is the highest amount of OvertimePay in the dataset?"
   ]
  },
  {
   "cell_type": "code",
   "execution_count": 31,
   "id": "a1251827",
   "metadata": {},
   "outputs": [
    {
     "name": "stdout",
     "output_type": "stream",
     "text": [
      "Highest 'OvertimePay Amount': 245131.88\n"
     ]
    }
   ],
   "source": [
    "highest_overtime_pay = df['OvertimePay'].max()\n",
    "print(f\"Highest 'OvertimePay Amount': {highest_overtime_pay}\")"
   ]
  },
  {
   "cell_type": "markdown",
   "id": "b0491183",
   "metadata": {},
   "source": [
    "6. What is the job title of PATRICIA GRANDBERRY?"
   ]
  },
  {
   "cell_type": "code",
   "execution_count": 32,
   "id": "23d920b0",
   "metadata": {},
   "outputs": [
    {
     "name": "stdout",
     "output_type": "stream",
     "text": [
      "The job title of PATRICIA GRANDBERRY is: PUBLIC HEALTH NURSE\n"
     ]
    }
   ],
   "source": [
    "employee_name = 'PATRICIA GRANDBERRY'\n",
    "job_title = df[df['EmployeeName'] == employee_name]['JobTitle'].iloc[0]\n",
    "print(f\"The job title of {employee_name} is: {job_title}\")"
   ]
  },
  {
   "cell_type": "markdown",
   "id": "533d98b4",
   "metadata": {},
   "source": [
    "7. What is the name of the highest paid person including benefits (TotalPayBenefits)?"
   ]
  },
  {
   "cell_type": "code",
   "execution_count": 33,
   "id": "fc55d521",
   "metadata": {},
   "outputs": [
    {
     "name": "stdout",
     "output_type": "stream",
     "text": [
      "The employee with the highest total pay is: NATHANIEL FORD\n"
     ]
    }
   ],
   "source": [
    "max_TotalPayBenefits_row = df[df['TotalPayBenefits'] == df['TotalPayBenefits'].max()]\n",
    "employee_with_highest_pay = max_TotalPayBenefits_row['EmployeeName'].iloc[0]\n",
    "print(f\"The employee with the highest total pay is: {employee_with_highest_pay}\")"
   ]
  },
  {
   "cell_type": "code",
   "execution_count": 34,
   "id": "ef1bd1ff",
   "metadata": {},
   "outputs": [
    {
     "name": "stdout",
     "output_type": "stream",
     "text": [
      "The employee with the lowest total pay is: Joe Lopez\n"
     ]
    }
   ],
   "source": [
    "#Name of the lowest paid person\n",
    "max_TotalPayBenefits_row = df[df['TotalPayBenefits'] == df['TotalPayBenefits'].min()]\n",
    "employee_with_lowest_pay = max_TotalPayBenefits_row['EmployeeName'].iloc[0]\n",
    "print(f\"The employee with the lowest total pay is: {employee_with_lowest_pay}\")"
   ]
  },
  {
   "cell_type": "markdown",
   "id": "e3ba4802",
   "metadata": {},
   "source": [
    "8. What was the average TotalPayBenefits of all employees per year?"
   ]
  },
  {
   "cell_type": "code",
   "execution_count": 18,
   "id": "e6d26501",
   "metadata": {},
   "outputs": [
    {
     "name": "stdout",
     "output_type": "stream",
     "text": [
      "Average TotalPayBenefits per year:\n",
      "Year\n",
      "2011     71744.103871\n",
      "2012    100553.229232\n",
      "2013    101440.519714\n",
      "2014    100250.918884\n",
      "Name: TotalPayBenefits, dtype: float64\n"
     ]
    }
   ],
   "source": [
    "average_TotalPayBenefits_per_year = df.groupby('Year')['TotalPayBenefits'].mean()\n",
    "print(\"Average TotalPayBenefits per year:\")\n",
    "print(average_TotalPayBenefits_per_year)"
   ]
  },
  {
   "cell_type": "markdown",
   "id": "c9785b49",
   "metadata": {},
   "source": [
    "9. How many unique job titles are there?"
   ]
  },
  {
   "cell_type": "code",
   "execution_count": 35,
   "id": "7069396c",
   "metadata": {},
   "outputs": [
    {
     "name": "stdout",
     "output_type": "stream",
     "text": [
      "Number of unique job titles: 2159\n"
     ]
    }
   ],
   "source": [
    "unique_job_titles = df['JobTitle'].nunique()\n",
    "\n",
    "print(f\"Number of unique job titles: {unique_job_titles}\")"
   ]
  },
  {
   "cell_type": "markdown",
   "id": "da51863c",
   "metadata": {},
   "source": [
    "10. What are the top 10 most common jobs? Take note of how many people have these jobs titles."
   ]
  },
  {
   "cell_type": "code",
   "execution_count": 21,
   "id": "b4fa007e",
   "metadata": {},
   "outputs": [
    {
     "name": "stdout",
     "output_type": "stream",
     "text": [
      "Top 10 most common job titles by workers count:\n",
      "Transit Operator                7036\n",
      "Special Nurse                   4389\n",
      "Registered Nurse                3736\n",
      "Public Svc Aide-Public Works    2518\n",
      "Police Officer 3                2421\n",
      "Custodian                       2418\n",
      "TRANSIT OPERATOR                2388\n",
      "Firefighter                     2359\n",
      "Recreation Leader               1971\n",
      "Patient Care Assistant          1945\n",
      "Name: JobTitle, dtype: int64\n"
     ]
    }
   ],
   "source": [
    "job_titles = df['JobTitle'].value_counts()\n",
    "top_10_common_jobs = job_titles.head(10)\n",
    "print(\"Top 10 most common job titles by workers count:\")\n",
    "print(top_10_common_jobs)"
   ]
  },
  {
   "cell_type": "markdown",
   "id": "34a298d7",
   "metadata": {},
   "source": [
    "11. What was the average BasePay for Firefighters in each year?"
   ]
  },
  {
   "cell_type": "code",
   "execution_count": 37,
   "id": "f1d7f4f7",
   "metadata": {
    "scrolled": false
   },
   "outputs": [],
   "source": [
    "firefighter_df = df[df['JobTitle'].str.contains('Firefighter')]\n",
    "gardener_df = df[df['JobTitle'].str.contains('Gardener')]"
   ]
  },
  {
   "cell_type": "code",
   "execution_count": null,
   "id": "33c3dab6",
   "metadata": {},
   "outputs": [],
   "source": [
    "average_base_pay_py = firefighter_df.groupby('Year')['BasePay'].mean()\n",
    "print(\"Average BasePay for Firefighters in each year:\")\n",
    "print(average_base_pay_py)"
   ]
  },
  {
   "cell_type": "code",
   "execution_count": 38,
   "id": "8ee343b5",
   "metadata": {},
   "outputs": [
    {
     "name": "stdout",
     "output_type": "stream",
     "text": [
      "Average BasePay for Gardener's in each year:\n",
      "Year\n",
      "2012    48839.218840\n",
      "2013    53016.699567\n",
      "2014    50893.426636\n",
      "Name: BasePay, dtype: float64\n"
     ]
    }
   ],
   "source": [
    "average_base_pay_py_grdner = gardener_df.groupby('Year')['BasePay'].mean()\n",
    "print(\"Average BasePay for Gardener's in each year:\")\n",
    "print(average_base_pay_py_grdner)"
   ]
  },
  {
   "cell_type": "markdown",
   "id": "11b4544e",
   "metadata": {},
   "source": [
    "<h3><center>End of Question 2</center></h3>"
   ]
  }
 ],
 "metadata": {
  "kernelspec": {
   "display_name": "Python 3 (ipykernel)",
   "language": "python",
   "name": "python3"
  },
  "language_info": {
   "codemirror_mode": {
    "name": "ipython",
    "version": 3
   },
   "file_extension": ".py",
   "mimetype": "text/x-python",
   "name": "python",
   "nbconvert_exporter": "python",
   "pygments_lexer": "ipython3",
   "version": "3.10.9"
  }
 },
 "nbformat": 4,
 "nbformat_minor": 5
}
