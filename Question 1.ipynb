{
 "cells": [
  {
   "cell_type": "markdown",
   "id": "61f8a369",
   "metadata": {},
   "source": [
    "# Assignment 1: Question 1"
   ]
  },
  {
   "cell_type": "markdown",
   "id": "9834463f",
   "metadata": {},
   "source": [
    "Consider the _Payroll.csv_ dataset."
   ]
  },
  {
   "cell_type": "code",
   "execution_count": 2,
   "id": "111b5e9e",
   "metadata": {},
   "outputs": [],
   "source": [
    "import pandas as pd"
   ]
  },
  {
   "cell_type": "code",
   "execution_count": 3,
   "id": "381a457c",
   "metadata": {
    "scrolled": true
   },
   "outputs": [],
   "source": [
    "file_path = 'C:/STK/Assignment 1/Payroll.csv'\n",
    "df = pd.read_csv(file_path)"
   ]
  },
  {
   "cell_type": "markdown",
   "id": "8572fd70",
   "metadata": {},
   "source": [
    "1. How many rows does the dataset contain?"
   ]
  },
  {
   "cell_type": "code",
   "execution_count": 4,
   "id": "2df92f9f",
   "metadata": {
    "scrolled": true
   },
   "outputs": [
    {
     "name": "stdout",
     "output_type": "stream",
     "text": [
      "Number of rows in payroll dataset: 148867\n"
     ]
    }
   ],
   "source": [
    "count_rows = len(df)\n",
    "print(f\"Number of rows in payroll dataset: {count_rows}\")"
   ]
  },
  {
   "cell_type": "markdown",
   "id": "bf7aefa6",
   "metadata": {},
   "source": [
    "2. What is the data type of each column?"
   ]
  },
  {
   "cell_type": "code",
   "execution_count": 5,
   "id": "288e8782",
   "metadata": {},
   "outputs": [
    {
     "name": "stdout",
     "output_type": "stream",
     "text": [
      "EmployeeName     object\n",
      "JobTitle         object\n",
      "BasicSalary     float64\n",
      "OvertimePay     float64\n",
      "OtherPay        float64\n",
      "TotalPay        float64\n",
      "Year            float64\n",
      "Agency           object\n",
      "dtype: object\n"
     ]
    }
   ],
   "source": [
    "column_data_types = df.dtypes\n",
    "print(column_data_types)"
   ]
  },
  {
   "cell_type": "markdown",
   "id": "cd2e0351",
   "metadata": {},
   "source": [
    "3. a. How many duplicate rows are there in the dataset?"
   ]
  },
  {
   "cell_type": "code",
   "execution_count": 6,
   "id": "31c257f1",
   "metadata": {},
   "outputs": [
    {
     "name": "stdout",
     "output_type": "stream",
     "text": [
      "Number of duplicate rows is: 222\n"
     ]
    }
   ],
   "source": [
    "duplicates = df.duplicated()\n",
    "sum_duplicates = duplicates.sum()\n",
    "print(f\"Number of duplicate rows is: {sum_duplicates}\")"
   ]
  },
  {
   "cell_type": "markdown",
   "id": "07870126",
   "metadata": {},
   "source": [
    "3. b. Delete the duplicate rows. How many rows are left in the dataset?"
   ]
  },
  {
   "cell_type": "code",
   "execution_count": 7,
   "id": "25641d8e",
   "metadata": {},
   "outputs": [],
   "source": [
    "df.drop_duplicates(inplace=True)"
   ]
  },
  {
   "cell_type": "code",
   "execution_count": 8,
   "id": "07513552",
   "metadata": {},
   "outputs": [
    {
     "name": "stdout",
     "output_type": "stream",
     "text": [
      "Number of rows remaining: 148645\n"
     ]
    }
   ],
   "source": [
    "sum_rows_remaining = len(df)\n",
    "print(f\"Number of rows remaining: {sum_rows_remaining}\")"
   ]
  },
  {
   "cell_type": "markdown",
   "id": "5acd184e",
   "metadata": {},
   "source": [
    "**IMPORTANT: Use the new dataset (with the duplicates removed) to answer the remaining questions.**"
   ]
  },
  {
   "cell_type": "markdown",
   "id": "9c6535da",
   "metadata": {},
   "source": [
    "4. How many missing values are there in each column?"
   ]
  },
  {
   "cell_type": "code",
   "execution_count": 9,
   "id": "f0676942",
   "metadata": {
    "scrolled": false
   },
   "outputs": [
    {
     "name": "stdout",
     "output_type": "stream",
     "text": [
      "Number of missing values per column:\n",
      "EmployeeName      0\n",
      "JobTitle          0\n",
      "BasicSalary     606\n",
      "OvertimePay     150\n",
      "OtherPay         14\n",
      "TotalPay          0\n",
      "Year            183\n",
      "Agency          128\n",
      "dtype: int64\n"
     ]
    }
   ],
   "source": [
    "missing_values_PC = df.isna().sum()\n",
    "print(\"Number of missing values per column:\")\n",
    "print(missing_values_PC)"
   ]
  },
  {
   "cell_type": "markdown",
   "id": "3a503dba",
   "metadata": {},
   "source": [
    "5. What is the average BasicSalary?"
   ]
  },
  {
   "cell_type": "code",
   "execution_count": 10,
   "id": "e8257e17",
   "metadata": {},
   "outputs": [
    {
     "name": "stdout",
     "output_type": "stream",
     "text": [
      "Average BasicSalary: 66333.88672680849\n"
     ]
    }
   ],
   "source": [
    "mean_basic_salary = df['BasicSalary'].mean()\n",
    "print(f\"Average BasicSalary: {mean_basic_salary}\")"
   ]
  },
  {
   "cell_type": "markdown",
   "id": "7f4b2952",
   "metadata": {},
   "source": [
    "6. The BasicSalary column has missing data. \n",
    "\n",
    "    a.   Replace the missing values with the median value of the column. \n",
    "   \n",
    "    b.  What do you call this method of handling missing data?\n",
    "   \n",
    "    c. Recalculate the average BasicSalary. How did it change?"
   ]
  },
  {
   "cell_type": "code",
   "execution_count": 11,
   "id": "92e67de6",
   "metadata": {
    "scrolled": true
   },
   "outputs": [],
   "source": [
    "median_basic_salary = df['BasicSalary'].median()\n",
    "df['BasicSalary'].fillna(median_basic_salary, inplace=True)\n",
    "#This method is called 'median imputation'"
   ]
  },
  {
   "cell_type": "code",
   "execution_count": 12,
   "id": "2f3d449a",
   "metadata": {},
   "outputs": [
    {
     "name": "stdout",
     "output_type": "stream",
     "text": [
      "New Average BasicSalary is: 66328.52925904\n"
     ]
    }
   ],
   "source": [
    "new_average_basic_salary = df['BasicSalary'].mean()\n",
    "print(f\"New Average BasicSalary is: {new_average_basic_salary}\")"
   ]
  },
  {
   "cell_type": "markdown",
   "id": "7457332c",
   "metadata": {},
   "source": [
    "7. How many outliers are there in the TotalPay column?"
   ]
  },
  {
   "cell_type": "code",
   "execution_count": 14,
   "id": "5f8bd7f5",
   "metadata": {},
   "outputs": [
    {
     "name": "stdout",
     "output_type": "stream",
     "text": [
      "Number of outliers in the 'TotalPay' column: 1283\n",
      "69719.18\n",
      "210424.83\n"
     ]
    }
   ],
   "source": [
    "Q1 = df['TotalPay'].quantile(0.25)\n",
    "Q3 = df['TotalPay'].quantile(0.75)\n",
    "IQR = Q3 - Q1\n",
    "lower_bound = Q1 - 1.5 * IQR\n",
    "upper_bound = Q3 + 1.5 * IQR\n",
    "outliers = df[(df['TotalPay'] < lower_bound) | (df['TotalPay'] > upper_bound)]\n",
    "num_outliers = len(outliers)\n",
    "print(f\"Number of outliers in the 'TotalPay' column: {num_outliers}\")\n",
    "print(IQR)\n",
    "print(upper_bound)"
   ]
  },
  {
   "cell_type": "markdown",
   "id": "281f4b1b",
   "metadata": {},
   "source": [
    "<h3><center>End of Question 1</center></h3>"
   ]
  }
 ],
 "metadata": {
  "kernelspec": {
   "display_name": "Python 3 (ipykernel)",
   "language": "python",
   "name": "python3"
  },
  "language_info": {
   "codemirror_mode": {
    "name": "ipython",
    "version": 3
   },
   "file_extension": ".py",
   "mimetype": "text/x-python",
   "name": "python",
   "nbconvert_exporter": "python",
   "pygments_lexer": "ipython3",
   "version": "3.10.9"
  }
 },
 "nbformat": 4,
 "nbformat_minor": 5
}
