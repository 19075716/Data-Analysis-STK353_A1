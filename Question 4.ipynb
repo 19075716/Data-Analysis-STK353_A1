{
 "cells": [
  {
   "cell_type": "markdown",
   "id": "ccaf316e",
   "metadata": {},
   "source": [
    "# Assignment 1: Question 4"
   ]
  },
  {
   "cell_type": "markdown",
   "id": "16b3079d",
   "metadata": {},
   "source": [
    "Consider the _911.csv_ dataset containing information about emergency calls received on the 911 emergency line in America.\n",
    "\n",
    "The data contains the following variables:\n",
    "\n",
    "| variable      | Description                                        |\n",
    "|------------|----------------------------------------------------|\n",
    "| lat        | Latitude                                           |\n",
    "| lng        | Longitude                                          |\n",
    "| desc       | Description of the Emergency Call                 |\n",
    "| zip        | Zipcode                                            |\n",
    "| title      | Title code                                              |\n",
    "| timeStamp  | YYYY-MM-DD HH:MM:SS                                |\n",
    "| twp        | Township                                           |\n",
    "| addr       | Address                                            |\n",
    "| e          | Dummy variable (always 1)                         |"
   ]
  },
  {
   "cell_type": "code",
   "execution_count": 1,
   "id": "8af715b6",
   "metadata": {},
   "outputs": [],
   "source": [
    "import pandas as pd"
   ]
  },
  {
   "cell_type": "code",
   "execution_count": 2,
   "id": "f8490eba",
   "metadata": {},
   "outputs": [],
   "source": [
    "file_path = 'C:/STK/Assignment 1/911.csv'\n",
    "df = pd.read_csv(file_path)"
   ]
  },
  {
   "cell_type": "markdown",
   "id": "30954824",
   "metadata": {},
   "source": [
    "1. Retrieve the first 7 rows of the dataset."
   ]
  },
  {
   "cell_type": "code",
   "execution_count": 3,
   "id": "59841916",
   "metadata": {},
   "outputs": [
    {
     "name": "stdout",
     "output_type": "stream",
     "text": [
      "First five rows of 911 dataset:\n",
      "         lat        lng                                               desc  \\\n",
      "0  40.297876 -75.581294  REINDEER CT & DEAD END;  NEW HANOVER; Station ...   \n",
      "1  40.258061 -75.264680  BRIAR PATH & WHITEMARSH LN;  HATFIELD TOWNSHIP...   \n",
      "2  40.121182 -75.351975  HAWS AVE; NORRISTOWN; 2015-12-10 @ 14:39:21-St...   \n",
      "3  40.116153 -75.343513  AIRY ST & SWEDE ST;  NORRISTOWN; Station 308A;...   \n",
      "4  40.251492 -75.603350  CHERRYWOOD CT & DEAD END;  LOWER POTTSGROVE; S...   \n",
      "5  40.253473 -75.283245  CANNON AVE & W 9TH ST;  LANSDALE; Station 345;...   \n",
      "6  40.182111 -75.127795  LAUREL AVE & OAKDALE AVE;  HORSHAM; Station 35...   \n",
      "\n",
      "       zip                    title            timeStamp                twp  \\\n",
      "0  19525.0   EMS: BACK PAINS/INJURY  2015-12-10 17:40:00        NEW HANOVER   \n",
      "1  19446.0  EMS: DIABETIC EMERGENCY  2015-12-10 17:40:00  HATFIELD TOWNSHIP   \n",
      "2  19401.0      Fire: GAS-ODOR/LEAK  2015-12-10 17:40:00         NORRISTOWN   \n",
      "3  19401.0   EMS: CARDIAC EMERGENCY  2015-12-10 17:40:01         NORRISTOWN   \n",
      "4      NaN           EMS: DIZZINESS  2015-12-10 17:40:01   LOWER POTTSGROVE   \n",
      "5  19446.0         EMS: HEAD INJURY  2015-12-10 17:40:01           LANSDALE   \n",
      "6  19044.0     EMS: NAUSEA/VOMITING  2015-12-10 17:40:01            HORSHAM   \n",
      "\n",
      "                         addr  e  \n",
      "0      REINDEER CT & DEAD END  1  \n",
      "1  BRIAR PATH & WHITEMARSH LN  1  \n",
      "2                    HAWS AVE  1  \n",
      "3          AIRY ST & SWEDE ST  1  \n",
      "4    CHERRYWOOD CT & DEAD END  1  \n",
      "5       CANNON AVE & W 9TH ST  1  \n",
      "6    LAUREL AVE & OAKDALE AVE  1  \n"
     ]
    }
   ],
   "source": [
    "first_seven_rows = df.head(7)\n",
    "print(\"First five rows of 911 dataset:\")\n",
    "print(first_seven_rows)"
   ]
  },
  {
   "cell_type": "markdown",
   "id": "0bb7b127",
   "metadata": {},
   "source": [
    "2. How many rows and columns does the dataset contain?"
   ]
  },
  {
   "cell_type": "code",
   "execution_count": 4,
   "id": "a591a943",
   "metadata": {},
   "outputs": [
    {
     "name": "stdout",
     "output_type": "stream",
     "text": [
      "Number of rows: 99492\n",
      "Number of columns: 9\n"
     ]
    }
   ],
   "source": [
    "num_rows, num_columns = df.shape\n",
    "print(f\"Number of rows: {num_rows}\")\n",
    "print(f\"Number of columns: {num_columns}\")"
   ]
  },
  {
   "cell_type": "markdown",
   "id": "6e24dd7b",
   "metadata": {},
   "source": [
    "3. How many columns contain missing data?"
   ]
  },
  {
   "cell_type": "code",
   "execution_count": 5,
   "id": "27ba1ab3",
   "metadata": {},
   "outputs": [
    {
     "name": "stdout",
     "output_type": "stream",
     "text": [
      "Number of columns with missing data: 3\n"
     ]
    }
   ],
   "source": [
    "missing_data_per_column = df.isna().sum()\n",
    "\n",
    "columns_with_missing_data = missing_data_per_column[missing_data_per_column > 0]\n",
    "\n",
    "num_columns_with_missing_data = len(columns_with_missing_data)\n",
    "\n",
    "print(f\"Number of columns with missing data: {num_columns_with_missing_data}\")"
   ]
  },
  {
   "cell_type": "markdown",
   "id": "68233b5e",
   "metadata": {},
   "source": [
    "4. Which 5 zipcodes have the most 911 calls?"
   ]
  },
  {
   "cell_type": "code",
   "execution_count": 7,
   "id": "41f7dcf7",
   "metadata": {},
   "outputs": [
    {
     "name": "stdout",
     "output_type": "stream",
     "text": [
      "Column names:\n",
      "lat\n",
      "lng\n",
      "desc\n",
      "zip\n",
      "title\n",
      "timeStamp\n",
      "twp\n",
      "addr\n",
      "e\n"
     ]
    }
   ],
   "source": [
    "#printing columns\n",
    "column_names = df.columns\n",
    "print(\"Column names:\")\n",
    "for column in column_names:\n",
    "    print(column)"
   ]
  },
  {
   "cell_type": "code",
   "execution_count": 8,
   "id": "1bfcebc5",
   "metadata": {},
   "outputs": [
    {
     "name": "stdout",
     "output_type": "stream",
     "text": [
      "Top 5 zip codes with the most 911 calls:\n",
      "19401.0    6979\n",
      "19464.0    6643\n",
      "19403.0    4854\n",
      "19446.0    4748\n",
      "19406.0    3174\n",
      "Name: zip, dtype: int64\n"
     ]
    }
   ],
   "source": [
    "top_five_zipcodes = df['zip'].value_counts().head(5)\n",
    "print(\"Top 5 zip codes with the most 911 calls:\")\n",
    "print(top_five_zipcodes)"
   ]
  },
  {
   "cell_type": "markdown",
   "id": "37dcaf3d",
   "metadata": {},
   "source": [
    "5. Take a look at the 'title' column. How many unique title codes are there?"
   ]
  },
  {
   "cell_type": "code",
   "execution_count": 9,
   "id": "112c76c5",
   "metadata": {},
   "outputs": [
    {
     "name": "stdout",
     "output_type": "stream",
     "text": [
      "Number of unique title codes: 110\n"
     ]
    }
   ],
   "source": [
    "unique_title_codes = df['title'].nunique()\n",
    "print(f\"Number of unique title codes: {unique_title_codes}\")"
   ]
  },
  {
   "cell_type": "markdown",
   "id": "b1108730",
   "metadata": {},
   "source": [
    "6. The title column gives information about the reason for the call. \n",
    "\n",
    "eg. 'EMS: BACK PAINS/INJURY' indicates that the _Reasons/Departments_ was EMS and the specific _Issue_ was BACK PAINS/INJURY.\n",
    "\n",
    "All of the entries are formatted in this manner: **Reasons/Departments: Issue**\n",
    "\n",
    "There are 3 possible _Reasons/Departments_: EMS, Fire, and Traffic and they are all indicated before the colon in the title code.\n",
    "\n",
    "The obective is to create an new column called `Reason` that contains only the _Reasons/Departments_ information. ie. EMS, Fire, or Traffic."
   ]
  },
  {
   "cell_type": "markdown",
   "id": "b933971a",
   "metadata": {},
   "source": [
    "a. Create function called `reason_extractor` that will select only the _Reasons/Departments_ from each title. \n",
    "\n",
    "Example: 'reason_extractor' must take in a string, eg. 'EMS: BACK PAINS/INJURY' and return only 'EMS'\n",
    "\n",
    "(HINT: Consider the .split() method that is available for string variables.)"
   ]
  },
  {
   "cell_type": "code",
   "execution_count": 10,
   "id": "6e128e94",
   "metadata": {},
   "outputs": [
    {
     "name": "stdout",
     "output_type": "stream",
     "text": [
      "Reason: EMS\n"
     ]
    }
   ],
   "source": [
    "def reason_extractor(title):\n",
    "    parts = title.split(':')\n",
    "    return parts[0]\n",
    "\n",
    "title = 'EMS: BACK PAINS/INJURY'\n",
    "reason = reason_extractor(title)\n",
    "print(f\"Reason: {reason}\")"
   ]
  },
  {
   "cell_type": "markdown",
   "id": "c5ac4562",
   "metadata": {},
   "source": [
    "Test your function on 'Fire: GAS-ODOR/LEAK'. If you give it this string, does it output 'Fire'?"
   ]
  },
  {
   "cell_type": "code",
   "execution_count": 11,
   "id": "c3f4c2e9",
   "metadata": {},
   "outputs": [
    {
     "name": "stdout",
     "output_type": "stream",
     "text": [
      "Reason: Fire\n"
     ]
    }
   ],
   "source": [
    "title = 'Fire: GAS-ODOR/LEAK'\n",
    "reason = reason_extractor(title)\n",
    "print(f\"Reason: {reason}\")"
   ]
  },
  {
   "cell_type": "markdown",
   "id": "c72b1805",
   "metadata": {},
   "source": [
    "b. Now use the .apply() method with a custom lambda expression to create a new column in your dataframe that is called \"Reason\" which contains the _Reasons/Departments_ information (ie. EMS, Fire, or Traffic only)."
   ]
  },
  {
   "cell_type": "code",
   "execution_count": 12,
   "id": "c6dfce4f",
   "metadata": {},
   "outputs": [
    {
     "name": "stdout",
     "output_type": "stream",
     "text": [
      "         lat        lng                                               desc  \\\n",
      "0  40.297876 -75.581294  REINDEER CT & DEAD END;  NEW HANOVER; Station ...   \n",
      "1  40.258061 -75.264680  BRIAR PATH & WHITEMARSH LN;  HATFIELD TOWNSHIP...   \n",
      "2  40.121182 -75.351975  HAWS AVE; NORRISTOWN; 2015-12-10 @ 14:39:21-St...   \n",
      "3  40.116153 -75.343513  AIRY ST & SWEDE ST;  NORRISTOWN; Station 308A;...   \n",
      "4  40.251492 -75.603350  CHERRYWOOD CT & DEAD END;  LOWER POTTSGROVE; S...   \n",
      "\n",
      "       zip                    title            timeStamp                twp  \\\n",
      "0  19525.0   EMS: BACK PAINS/INJURY  2015-12-10 17:40:00        NEW HANOVER   \n",
      "1  19446.0  EMS: DIABETIC EMERGENCY  2015-12-10 17:40:00  HATFIELD TOWNSHIP   \n",
      "2  19401.0      Fire: GAS-ODOR/LEAK  2015-12-10 17:40:00         NORRISTOWN   \n",
      "3  19401.0   EMS: CARDIAC EMERGENCY  2015-12-10 17:40:01         NORRISTOWN   \n",
      "4      NaN           EMS: DIZZINESS  2015-12-10 17:40:01   LOWER POTTSGROVE   \n",
      "\n",
      "                         addr  e Reason  \n",
      "0      REINDEER CT & DEAD END  1    EMS  \n",
      "1  BRIAR PATH & WHITEMARSH LN  1    EMS  \n",
      "2                    HAWS AVE  1   Fire  \n",
      "3          AIRY ST & SWEDE ST  1    EMS  \n",
      "4    CHERRYWOOD CT & DEAD END  1    EMS  \n"
     ]
    }
   ],
   "source": [
    "extract_reason = lambda title: title.split(':')[0]\n",
    "df['Reason'] = df['title'].apply(extract_reason)\n",
    "print(df.head())"
   ]
  },
  {
   "cell_type": "markdown",
   "id": "7b39a99f",
   "metadata": {},
   "source": [
    "7.  How many calls were received for each _Reasons/Departments_ based off of the new \"Reason\" column?"
   ]
  },
  {
   "cell_type": "code",
   "execution_count": 13,
   "id": "ae152d34",
   "metadata": {
    "scrolled": true
   },
   "outputs": [
    {
     "name": "stdout",
     "output_type": "stream",
     "text": [
      "Number of calls received per Reasons/Departments:\n",
      "EMS        48877\n",
      "Traffic    35695\n",
      "Fire       14920\n",
      "Name: Reason, dtype: int64\n"
     ]
    }
   ],
   "source": [
    "reason_counts = df['Reason'].value_counts()\n",
    "print(\"Number of calls received per Reasons/Departments:\")\n",
    "print(reason_counts)"
   ]
  },
  {
   "cell_type": "markdown",
   "id": "99c8a68c",
   "metadata": {},
   "source": [
    "8. Use `matplotlib` to plot a histogram showing the proportion of all the calls that were assigned to each _Reasons/Departments_. Remenber to give your graph a descriptive title and show all relevant labelling to ensure that your graph is meaningful and easy to understand. Also include gridlines in your plot for increased readability. "
   ]
  },
  {
   "cell_type": "code",
   "execution_count": 14,
   "id": "f0c0e868",
   "metadata": {},
   "outputs": [],
   "source": [
    "import matplotlib.pyplot as plt"
   ]
  },
  {
   "cell_type": "code",
   "execution_count": 21,
   "id": "bb62ec3d",
   "metadata": {},
   "outputs": [
    {
     "data": {
      "image/png": "[encoded data removed]",
      "text/plain": [
       "<Figure size 1000x600 with 1 Axes>"
      ]
     },
     "metadata": {},
     "output_type": "display_data"
    }
   ],
   "source": [
    "reason_counts = df['Reason'].value_counts()\n",
    "\n",
    "# The proportion of calls for each Reasons/Departments\n",
    "proportion = (reason_counts / len(df)) * 100\n",
    "\n",
    "# Creating a histogram for the proportions\n",
    "plt.figure(figsize=(10, 6))\n",
    "proportion.plot(kind='bar', color='skyblue')\n",
    "\n",
    "# Labels and title, and tilting the graph\n",
    "plt.xlabel('Reasons/Departments')\n",
    "plt.ylabel('Proportion of Calls (%)')\n",
    "plt.title('Proportion of 911 Calls by Reasons/Departments')\n",
    "plt.xticks(rotation=45)\n",
    "\n",
    "# Gridlines\n",
    "plt.grid(axis='y', linestyle='--', alpha=0.7)\n",
    "\n",
    "plt.tight_layout()\n",
    "plt.show()\n"
   ]
  },
  {
   "cell_type": "code",
   "execution_count": 23,
   "id": "b4447c04",
   "metadata": {},
   "outputs": [
    {
     "data": {
      "image/png": "[encoded data removed]",
      "text/plain": [
       "<Figure size 1000x600 with 1 Axes>"
      ]
     },
     "metadata": {},
     "output_type": "display_data"
    }
   ],
   "source": [
    "reason_counts = df['Reason'].value_counts()\n",
    "\n",
    "plt.figure(figsize=(10, 6))\n",
    "reason_counts.plot(kind='bar', color='skyblue')\n",
    "\n",
    "plt.xlabel('Reasons/Departments')\n",
    "plt.ylabel('Number of Calls')\n",
    "plt.title('Number of 911 Calls per Reasons/Departments')\n",
    "plt.xticks(rotation=45)\n",
    "\n",
    "plt.grid(axis='y', linestyle='--', alpha=0.7)\n",
    "\n",
    "plt.tight_layout()\n",
    "plt.show()\n"
   ]
  },
  {
   "cell_type": "markdown",
   "id": "4040ae23",
   "metadata": {},
   "source": [
    "<h3><center>End of Question 4</center></h3>"
   ]
  },
  {
   "cell_type": "markdown",
   "id": "767033a3",
   "metadata": {},
   "source": [
    "<h2><center>End of Assignment 1</center></h2>"
   ]
  }
 ],
 "metadata": {
  "kernelspec": {
   "display_name": "Python 3 (ipykernel)",
   "language": "python",
   "name": "python3"
  },
  "language_info": {
   "codemirror_mode": {
    "name": "ipython",
    "version": 3
   },
   "file_extension": ".py",
   "mimetype": "text/x-python",
   "name": "python",
   "nbconvert_exporter": "python",
   "pygments_lexer": "ipython3",
   "version": "3.10.9"
  }
 },
 "nbformat": 4,
 "nbformat_minor": 5
}
